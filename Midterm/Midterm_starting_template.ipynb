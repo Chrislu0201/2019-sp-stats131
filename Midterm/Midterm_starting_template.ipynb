{
 "cells": [
  {
   "cell_type": "code",
   "execution_count": 11,
   "metadata": {},
   "outputs": [],
   "source": [
    "import numpy as np\n",
    "import pandas as pd\n",
    "import matplotlib.pyplot as plt\n",
    "import seaborn as sns"
   ]
  },
  {
   "cell_type": "code",
   "execution_count": 2,
   "metadata": {},
   "outputs": [
    {
     "name": "stderr",
     "output_type": "stream",
     "text": [
      "/Users/LTY/anaconda2/lib/python3.7/site-packages/IPython/core/interactiveshell.py:3049: DtypeWarning: Columns (3) have mixed types. Specify dtype option on import or set low_memory=False.\n",
      "  interactivity=interactivity, compiler=compiler, result=result)\n"
     ]
    }
   ],
   "source": [
    "# source: https://download.bls.gov/pub/time.series/ap/\n",
    "# save ap.data.3.food as a txt file\n",
    "apfood = pd.read_csv('ap.data.3.food.txt', sep = '\\t')"
   ]
  },
  {
   "cell_type": "code",
   "execution_count": 3,
   "metadata": {},
   "outputs": [],
   "source": [
    "apfood.series_id = apfood.series_id.str.strip() # remove whitespace from series_id"
   ]
  },
  {
   "cell_type": "code",
   "execution_count": 4,
   "metadata": {},
   "outputs": [],
   "source": [
    "# Read section 4 of https://download.bls.gov/pub/time.series/ap/ap.txt\n",
    "# for how to understand the series_id\n",
    "# We extract the itemcode from the series_id and create a new column called 'item_code'\n",
    "apfood['item_code'] = apfood.series_id.str[-6:]"
   ]
  },
  {
   "cell_type": "code",
   "execution_count": 5,
   "metadata": {},
   "outputs": [
    {
     "name": "stdout",
     "output_type": "stream",
     "text": [
      "       series_id  year period         value footnote_codes item_code\n",
      "0  APU0000701111  1980    M01         0.203                   701111\n",
      "1  APU0000701111  1980    M02         0.205                   701111\n",
      "2  APU0000701111  1980    M03         0.211                   701111\n",
      "3  APU0000701111  1980    M04         0.206                   701111\n",
      "4  APU0000701111  1980    M05         0.207                   701111\n"
     ]
    }
   ],
   "source": [
    "print(apfood.head())"
   ]
  },
  {
   "cell_type": "code",
   "execution_count": 6,
   "metadata": {},
   "outputs": [],
   "source": [
    "# source: https://download.bls.gov/pub/time.series/ap/\n",
    "# save ap.item as a txt file\n",
    "apitem = pd.read_csv('ap.item.txt', sep = '\\t')"
   ]
  },
  {
   "cell_type": "code",
   "execution_count": 7,
   "metadata": {},
   "outputs": [
    {
     "name": "stdout",
     "output_type": "stream",
     "text": [
      "  item_code                                          item_name\n",
      "0    701111      Flour, white, all purpose, per lb. (453.6 gm)\n",
      "1    701311  Rice, white, long grain, precooked (cost per p...\n",
      "2    701312  Rice, white, long grain, uncooked, per lb. (45...\n",
      "3    701321             Spaghetti (cost per pound/453.6 grams)\n",
      "4    701322         Spaghetti and macaroni, per lb. (453.6 gm)\n"
     ]
    }
   ],
   "source": [
    "print(apitem.head())"
   ]
  },
  {
   "cell_type": "code",
   "execution_count": 8,
   "metadata": {},
   "outputs": [],
   "source": [
    "food = pd.merge(apfood, apitem, on = 'item_code')"
   ]
  },
  {
   "cell_type": "code",
   "execution_count": 9,
   "metadata": {},
   "outputs": [
    {
     "name": "stdout",
     "output_type": "stream",
     "text": [
      "<class 'pandas.core.frame.DataFrame'>\n",
      "Int64Index: 132195 entries, 0 to 132194\n",
      "Data columns (total 7 columns):\n",
      "series_id         132195 non-null object\n",
      "year              132195 non-null int64\n",
      "period            132195 non-null object\n",
      "value             132195 non-null object\n",
      "footnote_codes    132195 non-null object\n",
      "item_code         132195 non-null object\n",
      "item_name         132195 non-null object\n",
      "dtypes: int64(1), object(6)\n",
      "memory usage: 8.1+ MB\n"
     ]
    }
   ],
   "source": [
    "food.info()"
   ]
  },
  {
   "cell_type": "code",
   "execution_count": 10,
   "metadata": {},
   "outputs": [
    {
     "name": "stdout",
     "output_type": "stream",
     "text": [
      "       series_id  year period         value footnote_codes item_code  \\\n",
      "0  APU0000701111  1980    M01         0.203                   701111   \n",
      "1  APU0000701111  1980    M02         0.205                   701111   \n",
      "2  APU0000701111  1980    M03         0.211                   701111   \n",
      "3  APU0000701111  1980    M04         0.206                   701111   \n",
      "4  APU0000701111  1980    M05         0.207                   701111   \n",
      "\n",
      "                                       item_name  \n",
      "0  Flour, white, all purpose, per lb. (453.6 gm)  \n",
      "1  Flour, white, all purpose, per lb. (453.6 gm)  \n",
      "2  Flour, white, all purpose, per lb. (453.6 gm)  \n",
      "3  Flour, white, all purpose, per lb. (453.6 gm)  \n",
      "4  Flour, white, all purpose, per lb. (453.6 gm)  \n"
     ]
    }
   ],
   "source": [
    "print(food.head())"
   ]
  },
  {
   "cell_type": "markdown",
   "metadata": {},
   "source": [
    "# Start here with your answer to question 1:"
   ]
  },
  {
   "cell_type": "code",
   "execution_count": null,
   "metadata": {},
   "outputs": [],
   "source": []
  }
 ],
 "metadata": {
  "kernelspec": {
   "display_name": "Python 3",
   "language": "python",
   "name": "python3"
  },
  "language_info": {
   "codemirror_mode": {
    "name": "ipython",
    "version": 3
   },
   "file_extension": ".py",
   "mimetype": "text/x-python",
   "name": "python",
   "nbconvert_exporter": "python",
   "pygments_lexer": "ipython3",
   "version": "3.7.0"
  }
 },
 "nbformat": 4,
 "nbformat_minor": 2
}
