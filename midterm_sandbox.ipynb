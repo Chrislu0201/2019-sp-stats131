{
 "cells": [
  {
   "cell_type": "code",
   "execution_count": 93,
   "metadata": {},
   "outputs": [],
   "source": [
    "import pandas as pd\n",
    "import numpy as np\n",
    "import seaborn as sns\n",
    "import matplotlib.pyplot as plt"
   ]
  },
  {
   "cell_type": "code",
   "execution_count": 2,
   "metadata": {},
   "outputs": [],
   "source": [
    "bmx = pd.read_sas('BMX_I.XPT')"
   ]
  },
  {
   "cell_type": "code",
   "execution_count": 3,
   "metadata": {},
   "outputs": [
    {
     "data": {
      "text/html": [
       "<div>\n",
       "<style scoped>\n",
       "    .dataframe tbody tr th:only-of-type {\n",
       "        vertical-align: middle;\n",
       "    }\n",
       "\n",
       "    .dataframe tbody tr th {\n",
       "        vertical-align: top;\n",
       "    }\n",
       "\n",
       "    .dataframe thead th {\n",
       "        text-align: right;\n",
       "    }\n",
       "</style>\n",
       "<table border=\"1\" class=\"dataframe\">\n",
       "  <thead>\n",
       "    <tr style=\"text-align: right;\">\n",
       "      <th></th>\n",
       "      <th>SEQN</th>\n",
       "      <th>BMDSTATS</th>\n",
       "      <th>BMXWT</th>\n",
       "      <th>BMIWT</th>\n",
       "      <th>BMXRECUM</th>\n",
       "      <th>BMIRECUM</th>\n",
       "      <th>BMXHEAD</th>\n",
       "      <th>BMIHEAD</th>\n",
       "      <th>BMXHT</th>\n",
       "      <th>BMIHT</th>\n",
       "      <th>...</th>\n",
       "      <th>BMXARMC</th>\n",
       "      <th>BMIARMC</th>\n",
       "      <th>BMXWAIST</th>\n",
       "      <th>BMIWAIST</th>\n",
       "      <th>BMXSAD1</th>\n",
       "      <th>BMXSAD2</th>\n",
       "      <th>BMXSAD3</th>\n",
       "      <th>BMXSAD4</th>\n",
       "      <th>BMDAVSAD</th>\n",
       "      <th>BMDSADCM</th>\n",
       "    </tr>\n",
       "  </thead>\n",
       "  <tbody>\n",
       "    <tr>\n",
       "      <th>0</th>\n",
       "      <td>83732.0</td>\n",
       "      <td>1.0</td>\n",
       "      <td>94.8</td>\n",
       "      <td>NaN</td>\n",
       "      <td>NaN</td>\n",
       "      <td>NaN</td>\n",
       "      <td>NaN</td>\n",
       "      <td>NaN</td>\n",
       "      <td>184.5</td>\n",
       "      <td>NaN</td>\n",
       "      <td>...</td>\n",
       "      <td>35.9</td>\n",
       "      <td>NaN</td>\n",
       "      <td>101.1</td>\n",
       "      <td>NaN</td>\n",
       "      <td>22.9</td>\n",
       "      <td>22.7</td>\n",
       "      <td>NaN</td>\n",
       "      <td>NaN</td>\n",
       "      <td>22.8</td>\n",
       "      <td>NaN</td>\n",
       "    </tr>\n",
       "    <tr>\n",
       "      <th>1</th>\n",
       "      <td>83733.0</td>\n",
       "      <td>1.0</td>\n",
       "      <td>90.4</td>\n",
       "      <td>NaN</td>\n",
       "      <td>NaN</td>\n",
       "      <td>NaN</td>\n",
       "      <td>NaN</td>\n",
       "      <td>NaN</td>\n",
       "      <td>171.4</td>\n",
       "      <td>NaN</td>\n",
       "      <td>...</td>\n",
       "      <td>33.2</td>\n",
       "      <td>NaN</td>\n",
       "      <td>107.9</td>\n",
       "      <td>NaN</td>\n",
       "      <td>27.5</td>\n",
       "      <td>27.1</td>\n",
       "      <td>NaN</td>\n",
       "      <td>NaN</td>\n",
       "      <td>27.3</td>\n",
       "      <td>NaN</td>\n",
       "    </tr>\n",
       "    <tr>\n",
       "      <th>2</th>\n",
       "      <td>83734.0</td>\n",
       "      <td>1.0</td>\n",
       "      <td>83.4</td>\n",
       "      <td>NaN</td>\n",
       "      <td>NaN</td>\n",
       "      <td>NaN</td>\n",
       "      <td>NaN</td>\n",
       "      <td>NaN</td>\n",
       "      <td>170.1</td>\n",
       "      <td>NaN</td>\n",
       "      <td>...</td>\n",
       "      <td>31.0</td>\n",
       "      <td>NaN</td>\n",
       "      <td>116.5</td>\n",
       "      <td>NaN</td>\n",
       "      <td>26.7</td>\n",
       "      <td>26.5</td>\n",
       "      <td>NaN</td>\n",
       "      <td>NaN</td>\n",
       "      <td>26.6</td>\n",
       "      <td>NaN</td>\n",
       "    </tr>\n",
       "    <tr>\n",
       "      <th>3</th>\n",
       "      <td>83735.0</td>\n",
       "      <td>1.0</td>\n",
       "      <td>109.8</td>\n",
       "      <td>NaN</td>\n",
       "      <td>NaN</td>\n",
       "      <td>NaN</td>\n",
       "      <td>NaN</td>\n",
       "      <td>NaN</td>\n",
       "      <td>160.9</td>\n",
       "      <td>NaN</td>\n",
       "      <td>...</td>\n",
       "      <td>38.3</td>\n",
       "      <td>NaN</td>\n",
       "      <td>110.1</td>\n",
       "      <td>NaN</td>\n",
       "      <td>25.2</td>\n",
       "      <td>25.0</td>\n",
       "      <td>NaN</td>\n",
       "      <td>NaN</td>\n",
       "      <td>25.1</td>\n",
       "      <td>NaN</td>\n",
       "    </tr>\n",
       "    <tr>\n",
       "      <th>4</th>\n",
       "      <td>83736.0</td>\n",
       "      <td>3.0</td>\n",
       "      <td>55.2</td>\n",
       "      <td>NaN</td>\n",
       "      <td>NaN</td>\n",
       "      <td>NaN</td>\n",
       "      <td>NaN</td>\n",
       "      <td>NaN</td>\n",
       "      <td>164.9</td>\n",
       "      <td>NaN</td>\n",
       "      <td>...</td>\n",
       "      <td>27.2</td>\n",
       "      <td>NaN</td>\n",
       "      <td>80.4</td>\n",
       "      <td>NaN</td>\n",
       "      <td>NaN</td>\n",
       "      <td>NaN</td>\n",
       "      <td>NaN</td>\n",
       "      <td>NaN</td>\n",
       "      <td>NaN</td>\n",
       "      <td>NaN</td>\n",
       "    </tr>\n",
       "  </tbody>\n",
       "</table>\n",
       "<p>5 rows × 26 columns</p>\n",
       "</div>"
      ],
      "text/plain": [
       "      SEQN  BMDSTATS  BMXWT  BMIWT  BMXRECUM  BMIRECUM  BMXHEAD  BMIHEAD  \\\n",
       "0  83732.0       1.0   94.8    NaN       NaN       NaN      NaN      NaN   \n",
       "1  83733.0       1.0   90.4    NaN       NaN       NaN      NaN      NaN   \n",
       "2  83734.0       1.0   83.4    NaN       NaN       NaN      NaN      NaN   \n",
       "3  83735.0       1.0  109.8    NaN       NaN       NaN      NaN      NaN   \n",
       "4  83736.0       3.0   55.2    NaN       NaN       NaN      NaN      NaN   \n",
       "\n",
       "   BMXHT  BMIHT  ...  BMXARMC  BMIARMC  BMXWAIST  BMIWAIST  BMXSAD1  BMXSAD2  \\\n",
       "0  184.5    NaN  ...     35.9      NaN     101.1       NaN     22.9     22.7   \n",
       "1  171.4    NaN  ...     33.2      NaN     107.9       NaN     27.5     27.1   \n",
       "2  170.1    NaN  ...     31.0      NaN     116.5       NaN     26.7     26.5   \n",
       "3  160.9    NaN  ...     38.3      NaN     110.1       NaN     25.2     25.0   \n",
       "4  164.9    NaN  ...     27.2      NaN      80.4       NaN      NaN      NaN   \n",
       "\n",
       "   BMXSAD3  BMXSAD4  BMDAVSAD  BMDSADCM  \n",
       "0      NaN      NaN      22.8       NaN  \n",
       "1      NaN      NaN      27.3       NaN  \n",
       "2      NaN      NaN      26.6       NaN  \n",
       "3      NaN      NaN      25.1       NaN  \n",
       "4      NaN      NaN       NaN       NaN  \n",
       "\n",
       "[5 rows x 26 columns]"
      ]
     },
     "execution_count": 3,
     "metadata": {},
     "output_type": "execute_result"
    }
   ],
   "source": [
    "bmx.head()"
   ]
  },
  {
   "cell_type": "code",
   "execution_count": 4,
   "metadata": {},
   "outputs": [
    {
     "name": "stdout",
     "output_type": "stream",
     "text": [
      "<class 'pandas.core.frame.DataFrame'>\n",
      "RangeIndex: 9544 entries, 0 to 9543\n",
      "Data columns (total 26 columns):\n",
      "SEQN        9544 non-null float64\n",
      "BMDSTATS    9544 non-null float64\n",
      "BMXWT       9445 non-null float64\n",
      "BMIWT       443 non-null float64\n",
      "BMXRECUM    1073 non-null float64\n",
      "BMIRECUM    33 non-null float64\n",
      "BMXHEAD     215 non-null float64\n",
      "BMIHEAD     0 non-null float64\n",
      "BMXHT       8769 non-null float64\n",
      "BMIHT       105 non-null float64\n",
      "BMXBMI      8756 non-null float64\n",
      "BMDBMIC     3340 non-null float64\n",
      "BMXLEG      7110 non-null float64\n",
      "BMILEG      402 non-null float64\n",
      "BMXARML     8976 non-null float64\n",
      "BMIARML     420 non-null float64\n",
      "BMXARMC     8976 non-null float64\n",
      "BMIARMC     421 non-null float64\n",
      "BMXWAIST    8313 non-null float64\n",
      "BMIWAIST    489 non-null float64\n",
      "BMXSAD1     6983 non-null float64\n",
      "BMXSAD2     6983 non-null float64\n",
      "BMXSAD3     353 non-null float64\n",
      "BMXSAD4     353 non-null float64\n",
      "BMDAVSAD    6983 non-null float64\n",
      "BMDSADCM    446 non-null float64\n",
      "dtypes: float64(26)\n",
      "memory usage: 1.9 MB\n"
     ]
    }
   ],
   "source": [
    "bmx.info()"
   ]
  },
  {
   "cell_type": "code",
   "execution_count": 5,
   "metadata": {},
   "outputs": [],
   "source": [
    "demo = pd.read_sas('DEMO_I.XPT')"
   ]
  },
  {
   "cell_type": "code",
   "execution_count": 6,
   "metadata": {},
   "outputs": [
    {
     "data": {
      "text/html": [
       "<div>\n",
       "<style scoped>\n",
       "    .dataframe tbody tr th:only-of-type {\n",
       "        vertical-align: middle;\n",
       "    }\n",
       "\n",
       "    .dataframe tbody tr th {\n",
       "        vertical-align: top;\n",
       "    }\n",
       "\n",
       "    .dataframe thead th {\n",
       "        text-align: right;\n",
       "    }\n",
       "</style>\n",
       "<table border=\"1\" class=\"dataframe\">\n",
       "  <thead>\n",
       "    <tr style=\"text-align: right;\">\n",
       "      <th></th>\n",
       "      <th>SEQN</th>\n",
       "      <th>SDDSRVYR</th>\n",
       "      <th>RIDSTATR</th>\n",
       "      <th>RIAGENDR</th>\n",
       "      <th>RIDAGEYR</th>\n",
       "      <th>RIDAGEMN</th>\n",
       "      <th>RIDRETH1</th>\n",
       "      <th>RIDRETH3</th>\n",
       "      <th>RIDEXMON</th>\n",
       "      <th>RIDEXAGM</th>\n",
       "      <th>...</th>\n",
       "      <th>DMDHREDU</th>\n",
       "      <th>DMDHRMAR</th>\n",
       "      <th>DMDHSEDU</th>\n",
       "      <th>WTINT2YR</th>\n",
       "      <th>WTMEC2YR</th>\n",
       "      <th>SDMVPSU</th>\n",
       "      <th>SDMVSTRA</th>\n",
       "      <th>INDHHIN2</th>\n",
       "      <th>INDFMIN2</th>\n",
       "      <th>INDFMPIR</th>\n",
       "    </tr>\n",
       "  </thead>\n",
       "  <tbody>\n",
       "    <tr>\n",
       "      <th>0</th>\n",
       "      <td>83732.0</td>\n",
       "      <td>9.0</td>\n",
       "      <td>2.0</td>\n",
       "      <td>1.0</td>\n",
       "      <td>62.0</td>\n",
       "      <td>NaN</td>\n",
       "      <td>3.0</td>\n",
       "      <td>3.0</td>\n",
       "      <td>1.0</td>\n",
       "      <td>NaN</td>\n",
       "      <td>...</td>\n",
       "      <td>5.0</td>\n",
       "      <td>1.0</td>\n",
       "      <td>3.0</td>\n",
       "      <td>134671.370419</td>\n",
       "      <td>135629.507405</td>\n",
       "      <td>1.0</td>\n",
       "      <td>125.0</td>\n",
       "      <td>10.0</td>\n",
       "      <td>10.0</td>\n",
       "      <td>4.39</td>\n",
       "    </tr>\n",
       "    <tr>\n",
       "      <th>1</th>\n",
       "      <td>83733.0</td>\n",
       "      <td>9.0</td>\n",
       "      <td>2.0</td>\n",
       "      <td>1.0</td>\n",
       "      <td>53.0</td>\n",
       "      <td>NaN</td>\n",
       "      <td>3.0</td>\n",
       "      <td>3.0</td>\n",
       "      <td>1.0</td>\n",
       "      <td>NaN</td>\n",
       "      <td>...</td>\n",
       "      <td>3.0</td>\n",
       "      <td>3.0</td>\n",
       "      <td>NaN</td>\n",
       "      <td>24328.560239</td>\n",
       "      <td>25282.425927</td>\n",
       "      <td>1.0</td>\n",
       "      <td>125.0</td>\n",
       "      <td>4.0</td>\n",
       "      <td>4.0</td>\n",
       "      <td>1.32</td>\n",
       "    </tr>\n",
       "    <tr>\n",
       "      <th>2</th>\n",
       "      <td>83734.0</td>\n",
       "      <td>9.0</td>\n",
       "      <td>2.0</td>\n",
       "      <td>1.0</td>\n",
       "      <td>78.0</td>\n",
       "      <td>NaN</td>\n",
       "      <td>3.0</td>\n",
       "      <td>3.0</td>\n",
       "      <td>2.0</td>\n",
       "      <td>NaN</td>\n",
       "      <td>...</td>\n",
       "      <td>3.0</td>\n",
       "      <td>1.0</td>\n",
       "      <td>3.0</td>\n",
       "      <td>12400.008522</td>\n",
       "      <td>12575.838818</td>\n",
       "      <td>1.0</td>\n",
       "      <td>131.0</td>\n",
       "      <td>5.0</td>\n",
       "      <td>5.0</td>\n",
       "      <td>1.51</td>\n",
       "    </tr>\n",
       "    <tr>\n",
       "      <th>3</th>\n",
       "      <td>83735.0</td>\n",
       "      <td>9.0</td>\n",
       "      <td>2.0</td>\n",
       "      <td>2.0</td>\n",
       "      <td>56.0</td>\n",
       "      <td>NaN</td>\n",
       "      <td>3.0</td>\n",
       "      <td>3.0</td>\n",
       "      <td>2.0</td>\n",
       "      <td>NaN</td>\n",
       "      <td>...</td>\n",
       "      <td>5.0</td>\n",
       "      <td>6.0</td>\n",
       "      <td>NaN</td>\n",
       "      <td>102717.995647</td>\n",
       "      <td>102078.634508</td>\n",
       "      <td>1.0</td>\n",
       "      <td>131.0</td>\n",
       "      <td>10.0</td>\n",
       "      <td>10.0</td>\n",
       "      <td>5.00</td>\n",
       "    </tr>\n",
       "    <tr>\n",
       "      <th>4</th>\n",
       "      <td>83736.0</td>\n",
       "      <td>9.0</td>\n",
       "      <td>2.0</td>\n",
       "      <td>2.0</td>\n",
       "      <td>42.0</td>\n",
       "      <td>NaN</td>\n",
       "      <td>4.0</td>\n",
       "      <td>4.0</td>\n",
       "      <td>2.0</td>\n",
       "      <td>NaN</td>\n",
       "      <td>...</td>\n",
       "      <td>4.0</td>\n",
       "      <td>3.0</td>\n",
       "      <td>NaN</td>\n",
       "      <td>17627.674984</td>\n",
       "      <td>18234.736219</td>\n",
       "      <td>2.0</td>\n",
       "      <td>126.0</td>\n",
       "      <td>7.0</td>\n",
       "      <td>7.0</td>\n",
       "      <td>1.23</td>\n",
       "    </tr>\n",
       "  </tbody>\n",
       "</table>\n",
       "<p>5 rows × 47 columns</p>\n",
       "</div>"
      ],
      "text/plain": [
       "      SEQN  SDDSRVYR  RIDSTATR  RIAGENDR  RIDAGEYR  RIDAGEMN  RIDRETH1  \\\n",
       "0  83732.0       9.0       2.0       1.0      62.0       NaN       3.0   \n",
       "1  83733.0       9.0       2.0       1.0      53.0       NaN       3.0   \n",
       "2  83734.0       9.0       2.0       1.0      78.0       NaN       3.0   \n",
       "3  83735.0       9.0       2.0       2.0      56.0       NaN       3.0   \n",
       "4  83736.0       9.0       2.0       2.0      42.0       NaN       4.0   \n",
       "\n",
       "   RIDRETH3  RIDEXMON  RIDEXAGM  ...  DMDHREDU  DMDHRMAR  DMDHSEDU  \\\n",
       "0       3.0       1.0       NaN  ...       5.0       1.0       3.0   \n",
       "1       3.0       1.0       NaN  ...       3.0       3.0       NaN   \n",
       "2       3.0       2.0       NaN  ...       3.0       1.0       3.0   \n",
       "3       3.0       2.0       NaN  ...       5.0       6.0       NaN   \n",
       "4       4.0       2.0       NaN  ...       4.0       3.0       NaN   \n",
       "\n",
       "        WTINT2YR       WTMEC2YR  SDMVPSU  SDMVSTRA  INDHHIN2  INDFMIN2  \\\n",
       "0  134671.370419  135629.507405      1.0     125.0      10.0      10.0   \n",
       "1   24328.560239   25282.425927      1.0     125.0       4.0       4.0   \n",
       "2   12400.008522   12575.838818      1.0     131.0       5.0       5.0   \n",
       "3  102717.995647  102078.634508      1.0     131.0      10.0      10.0   \n",
       "4   17627.674984   18234.736219      2.0     126.0       7.0       7.0   \n",
       "\n",
       "   INDFMPIR  \n",
       "0      4.39  \n",
       "1      1.32  \n",
       "2      1.51  \n",
       "3      5.00  \n",
       "4      1.23  \n",
       "\n",
       "[5 rows x 47 columns]"
      ]
     },
     "execution_count": 6,
     "metadata": {},
     "output_type": "execute_result"
    }
   ],
   "source": [
    "demo.head()"
   ]
  },
  {
   "cell_type": "code",
   "execution_count": 7,
   "metadata": {},
   "outputs": [
    {
     "name": "stdout",
     "output_type": "stream",
     "text": [
      "<class 'pandas.core.frame.DataFrame'>\n",
      "RangeIndex: 9971 entries, 0 to 9970\n",
      "Data columns (total 47 columns):\n",
      "SEQN        9971 non-null float64\n",
      "SDDSRVYR    9971 non-null float64\n",
      "RIDSTATR    9971 non-null float64\n",
      "RIAGENDR    9971 non-null float64\n",
      "RIDAGEYR    9971 non-null float64\n",
      "RIDAGEMN    695 non-null float64\n",
      "RIDRETH1    9971 non-null float64\n",
      "RIDRETH3    9971 non-null float64\n",
      "RIDEXMON    9544 non-null float64\n",
      "RIDEXAGM    4060 non-null float64\n",
      "DMQMILIZ    6149 non-null float64\n",
      "DMQADFC     527 non-null float64\n",
      "DMDBORN4    9971 non-null float64\n",
      "DMDCITZN    9969 non-null float64\n",
      "DMDYRSUS    2236 non-null float64\n",
      "DMDEDUC3    2647 non-null float64\n",
      "DMDEDUC2    5719 non-null float64\n",
      "DMDMARTL    5719 non-null float64\n",
      "RIDEXPRG    1288 non-null float64\n",
      "SIALANG     9971 non-null float64\n",
      "SIAPROXY    9970 non-null float64\n",
      "SIAINTRP    9971 non-null float64\n",
      "FIALANG     9642 non-null float64\n",
      "FIAPROXY    9642 non-null float64\n",
      "FIAINTRP    9642 non-null float64\n",
      "MIALANG     6977 non-null float64\n",
      "MIAPROXY    6978 non-null float64\n",
      "MIAINTRP    6978 non-null float64\n",
      "AIALANGA    5962 non-null float64\n",
      "DMDHHSIZ    9971 non-null float64\n",
      "DMDFMSIZ    9971 non-null float64\n",
      "DMDHHSZA    9971 non-null float64\n",
      "DMDHHSZB    9971 non-null float64\n",
      "DMDHHSZE    9971 non-null float64\n",
      "DMDHRGND    9971 non-null float64\n",
      "DMDHRAGE    9971 non-null float64\n",
      "DMDHRBR4    9575 non-null float64\n",
      "DMDHREDU    9575 non-null float64\n",
      "DMDHRMAR    9909 non-null float64\n",
      "DMDHSEDU    5226 non-null float64\n",
      "WTINT2YR    9971 non-null float64\n",
      "WTMEC2YR    9971 non-null float64\n",
      "SDMVPSU     9971 non-null float64\n",
      "SDMVSTRA    9971 non-null float64\n",
      "INDHHIN2    9626 non-null float64\n",
      "INDFMIN2    9642 non-null float64\n",
      "INDFMPIR    8919 non-null float64\n",
      "dtypes: float64(47)\n",
      "memory usage: 3.6 MB\n"
     ]
    }
   ],
   "source": [
    "demo.info()"
   ]
  },
  {
   "cell_type": "code",
   "execution_count": 8,
   "metadata": {},
   "outputs": [],
   "source": [
    "merged = bmx.merge(right = demo, on = 'SEQN')"
   ]
  },
  {
   "cell_type": "code",
   "execution_count": 9,
   "metadata": {},
   "outputs": [
    {
     "name": "stdout",
     "output_type": "stream",
     "text": [
      "      SEQN  BMDSTATS  BMXWT  BMIWT  BMXRECUM  BMIRECUM  BMXHEAD  BMIHEAD  \\\n",
      "0  83732.0       1.0   94.8    NaN       NaN       NaN      NaN      NaN   \n",
      "1  83733.0       1.0   90.4    NaN       NaN       NaN      NaN      NaN   \n",
      "2  83734.0       1.0   83.4    NaN       NaN       NaN      NaN      NaN   \n",
      "3  83735.0       1.0  109.8    NaN       NaN       NaN      NaN      NaN   \n",
      "4  83736.0       3.0   55.2    NaN       NaN       NaN      NaN      NaN   \n",
      "\n",
      "   BMXHT  BMIHT  ...  DMDHREDU  DMDHRMAR  DMDHSEDU       WTINT2YR  \\\n",
      "0  184.5    NaN  ...       5.0       1.0       3.0  134671.370419   \n",
      "1  171.4    NaN  ...       3.0       3.0       NaN   24328.560239   \n",
      "2  170.1    NaN  ...       3.0       1.0       3.0   12400.008522   \n",
      "3  160.9    NaN  ...       5.0       6.0       NaN  102717.995647   \n",
      "4  164.9    NaN  ...       4.0       3.0       NaN   17627.674984   \n",
      "\n",
      "        WTMEC2YR  SDMVPSU  SDMVSTRA  INDHHIN2  INDFMIN2  INDFMPIR  \n",
      "0  135629.507405      1.0     125.0      10.0      10.0      4.39  \n",
      "1   25282.425927      1.0     125.0       4.0       4.0      1.32  \n",
      "2   12575.838818      1.0     131.0       5.0       5.0      1.51  \n",
      "3  102078.634508      1.0     131.0      10.0      10.0      5.00  \n",
      "4   18234.736219      2.0     126.0       7.0       7.0      1.23  \n",
      "\n",
      "[5 rows x 72 columns]\n"
     ]
    }
   ],
   "source": [
    "print(merged.head())"
   ]
  },
  {
   "cell_type": "markdown",
   "metadata": {},
   "source": [
    "# Baby Weights"
   ]
  },
  {
   "cell_type": "code",
   "execution_count": 52,
   "metadata": {},
   "outputs": [
    {
     "data": {
      "text/plain": [
       "RIDAGEMN\n",
       "0      4.794444\n",
       "1      5.791667\n",
       "2      6.661111\n",
       "3      7.000000\n",
       "4      7.795000\n",
       "5      8.525000\n",
       "6      8.263636\n",
       "7      9.061111\n",
       "8      9.322222\n",
       "9     10.093750\n",
       "10    10.364286\n",
       "11     9.963636\n",
       "12    10.523077\n",
       "Name: BMXWT, dtype: float64"
      ]
     },
     "execution_count": 52,
     "metadata": {},
     "output_type": "execute_result"
    }
   ],
   "source": [
    "#1.\n",
    "babyboys = merged[(merged['RIAGENDR'] == 1) & (merged['RIDAGEMN'] == merged['RIDAGEMN']) & (merged['RIDAGEMN'] >=0) & (merged['RIDAGEMN'] <=12)]\n",
    "babyboys.RIDAGEMN = babyboys.RIDAGEMN.apply(lambda x: round(x))\n",
    "boys = babyboys.BMXWT.groupby(babyboys.RIDAGEMN).mean()\n",
    "boys"
   ]
  },
  {
   "cell_type": "code",
   "execution_count": 53,
   "metadata": {},
   "outputs": [
    {
     "data": {
      "text/plain": [
       "RIDAGEMN\n",
       "0     4.508333\n",
       "1     5.457143\n",
       "2     5.712500\n",
       "3     6.553846\n",
       "4     7.052941\n",
       "5     7.647059\n",
       "6     8.005263\n",
       "7     8.190909\n",
       "8     8.303704\n",
       "9     9.243750\n",
       "10    9.066667\n",
       "11    9.100000\n",
       "12    9.757143\n",
       "Name: BMXWT, dtype: float64"
      ]
     },
     "execution_count": 53,
     "metadata": {},
     "output_type": "execute_result"
    }
   ],
   "source": [
    "#2.\n",
    "babygirls = merged[(merged['RIAGENDR'] == 2) & (merged['RIDAGEMN'] == merged['RIDAGEMN']) & (merged['RIDAGEMN'] >=0) & (merged['RIDAGEMN'] <=12)]\n",
    "babygirls.RIDAGEMN = babygirls.RIDAGEMN.apply(lambda x: round(x))\n",
    "girls = babygirls.BMXWT.groupby(babygirls.RIDAGEMN).mean()\n",
    "girls"
   ]
  },
  {
   "cell_type": "code",
   "execution_count": 54,
   "metadata": {},
   "outputs": [
    {
     "data": {
      "text/plain": [
       "RIDAGEMN\n",
       "0     0.286111\n",
       "1     0.334524\n",
       "2     0.948611\n",
       "3     0.446154\n",
       "4     0.742059\n",
       "5     0.877941\n",
       "6     0.258373\n",
       "7     0.870202\n",
       "8     1.018519\n",
       "9     0.850000\n",
       "10    1.297619\n",
       "11    0.863636\n",
       "12    0.765934\n",
       "Name: BMXWT, dtype: float64"
      ]
     },
     "execution_count": 54,
     "metadata": {},
     "output_type": "execute_result"
    }
   ],
   "source": [
    "#3.\n",
    "boys-girls"
   ]
  },
  {
   "cell_type": "code",
   "execution_count": 68,
   "metadata": {},
   "outputs": [
    {
     "data": {
      "text/plain": [
       "<matplotlib.legend.Legend at 0x11cbc6320>"
      ]
     },
     "execution_count": 68,
     "metadata": {},
     "output_type": "execute_result"
    },
    {
     "data": {
      "image/png": "[encoded data removed]",
      "text/plain": [
       "<Figure size 432x288 with 1 Axes>"
      ]
     },
     "metadata": {
      "needs_background": "light"
     },
     "output_type": "display_data"
    }
   ],
   "source": [
    "#4.\n",
    "boys.plot.line()\n",
    "g = girls.plot.line()\n",
    "g.set_ylabel('Mean Weights')\n",
    "g.legend([\"Boys\", \"Girls\"])"
   ]
  },
  {
   "cell_type": "code",
   "execution_count": 94,
   "metadata": {},
   "outputs": [
    {
     "data": {
      "text/plain": [
       "<matplotlib.legend.Legend at 0x11cc9ecc0>"
      ]
     },
     "execution_count": 94,
     "metadata": {},
     "output_type": "execute_result"
    },
    {
     "data": {
      "image/png": "[encoded data removed]",
      "text/plain": [
       "<Figure size 360x360 with 1 Axes>"
      ]
     },
     "metadata": {
      "needs_background": "light"
     },
     "output_type": "display_data"
    }
   ],
   "source": [
    "#5.\n",
    "mergedNew = merged[(merged['RIDAGEMN'] == merged['RIDAGEMN']) & (merged['RIDAGEMN'] >=0) & (merged['RIDAGEMN'] <=12)]\n",
    "#mergedNew['Gender'] = pd.Series(mergedNew.RIAGENDR.replace({1:'Male', 2:'Female'}), index=mergedNew.index) ???????\n",
    "sns.lmplot(x = \"RIDAGEMN\", y = \"BMXWT\", hue = \"RIAGENDR\", data=mergedNew, legend = False)\n",
    "plt.legend(['boys', 'girls'])"
   ]
  },
  {
   "cell_type": "markdown",
   "metadata": {},
   "source": [
    "# Height & Leg Length & Arm Length"
   ]
  },
  {
   "cell_type": "code",
   "execution_count": 98,
   "metadata": {},
   "outputs": [
    {
     "data": {
      "text/plain": [
       "0.7874491670325252"
      ]
     },
     "execution_count": 98,
     "metadata": {},
     "output_type": "execute_result"
    }
   ],
   "source": [
    "#1.\n",
    "adult20 = merged[(merged.RIDAGEYR >= 20)&(merged.BMXLEG == merged.BMXLEG)&(merged.BMXARML == merged.BMXARML)&(merged.BMXHT == merged.BMXHT)]\n",
    "adult20['BMXHT'].corr(adult20['BMXLEG'])"
   ]
  },
  {
   "cell_type": "code",
   "execution_count": 99,
   "metadata": {},
   "outputs": [
    {
     "data": {
      "text/plain": [
       "0.7978726822536472"
      ]
     },
     "execution_count": 99,
     "metadata": {},
     "output_type": "execute_result"
    }
   ],
   "source": [
    "#2.\n",
    "adult20['BMXHT'].corr(adult20['BMXARML'])"
   ]
  },
  {
   "cell_type": "code",
   "execution_count": 100,
   "metadata": {},
   "outputs": [
    {
     "data": {
      "text/plain": [
       "0.6293694196844941"
      ]
     },
     "execution_count": 100,
     "metadata": {},
     "output_type": "execute_result"
    }
   ],
   "source": [
    "#3.\n",
    "adult20['BMXARML'].corr(adult20['BMXLEG'])"
   ]
  },
  {
   "cell_type": "code",
   "execution_count": 143,
   "metadata": {},
   "outputs": [],
   "source": [
    "#4.\n",
    "bins = pd.IntervalIndex.from_tuples([(19.9, 29.9), (29.9, 39.9), (39.9, 49.9), (49.9, 59.9), (59.9, 69.9), (69.9, 79.9), (79.9, float('Inf'))])\n",
    "#ageBins = pd.cut(adult20[adult20.RIDAGEYR<=80].RIDAGEYR, bins = 6, right = False)\n",
    "agebins = pd.cut(adult20.RIDAGEYR, bins, precision = 1,right = False, include_lowest = True, labels = ['20-29.9', '30-39.9', '40-49.9', '50-59.9', '60-69.9', '70-79.9', '80+'])\n",
    "#np.where(adult20.RIDAGEYR>80, '80+', adult20.RIDAGEYR)\n",
    "adult20 = adult20.assign(agebin = pd.Series(agebins).values)\n",
    "adult20 = adult20.drop(['NewAge', 'agebins'], axis = 1)"
   ]
  },
  {
   "cell_type": "code",
   "execution_count": 144,
   "metadata": {},
   "outputs": [
    {
     "name": "stdout",
     "output_type": "stream",
     "text": [
      "RIDAGEYR\n",
      "(19.9, 29.9]    167.879617\n",
      "(29.9, 39.9]    167.488202\n",
      "(39.9, 49.9]    166.563244\n",
      "(49.9, 59.9]    166.351476\n",
      "(59.9, 69.9]    164.977480\n",
      "(69.9, 79.9]    164.728016\n",
      "(79.9, inf]     162.097091\n",
      "Name: BMXHT, dtype: float64\n",
      "RIDAGEYR\n",
      "(19.9, 29.9]    40.064189\n",
      "(29.9, 39.9]    39.556128\n",
      "(39.9, 49.9]    38.680863\n",
      "(49.9, 59.9]    38.163400\n",
      "(59.9, 69.9]    37.342707\n",
      "(69.9, 79.9]    36.984049\n",
      "(79.9, inf]     36.516000\n",
      "Name: BMXLEG, dtype: float64\n",
      "RIDAGEYR\n",
      "(19.9, 29.9]    37.068919\n",
      "(29.9, 39.9]    37.154754\n",
      "(39.9, 49.9]    37.094632\n",
      "(49.9, 59.9]    37.188784\n",
      "(59.9, 69.9]    37.252859\n",
      "(69.9, 79.9]    37.350102\n",
      "(79.9, inf]     36.908000\n",
      "Name: BMXARML, dtype: float64\n"
     ]
    }
   ],
   "source": [
    "#5.\n",
    "print(adult20.groupby(agebins).BMXHT.mean())\n",
    "print(adult20.groupby(agebins).BMXLEG.mean())\n",
    "print(adult20.groupby(agebins).BMXARML.mean())"
   ]
  },
  {
   "cell_type": "code",
   "execution_count": 157,
   "metadata": {},
   "outputs": [
    {
     "data": {
      "text/plain": [
       "<matplotlib.legend.Legend at 0x1a21e900f0>"
      ]
     },
     "execution_count": 157,
     "metadata": {},
     "output_type": "execute_result"
    },
    {
     "data": {
      "image/png": "[encoded data removed]",
      "text/plain": [
       "<Figure size 432x288 with 1 Axes>"
      ]
     },
     "metadata": {
      "needs_background": "light"
     },
     "output_type": "display_data"
    }
   ],
   "source": [
    "#6.\n",
    "meanHT = adult20.groupby(agebins).BMXHT.mean().apply(lambda x: x-128)\n",
    "meanArm = adult20.groupby(agebins).BMXARML.mean()\n",
    "meanLeg = adult20.groupby(agebins).BMXLEG.mean()\n",
    "\n",
    "meanHT.plot()\n",
    "meanArm.plot()\n",
    "meanLeg.plot().legend(['AdjHeight', 'Arm', 'Leg'])"
   ]
  },
  {
   "cell_type": "markdown",
   "metadata": {},
   "source": [
    "# Education level and income"
   ]
  },
  {
   "cell_type": "code",
   "execution_count": 158,
   "metadata": {},
   "outputs": [],
   "source": [
    "#1. \n",
    "adult = merged[merged.RIDAGEYR>=20]"
   ]
  },
  {
   "cell_type": "code",
   "execution_count": 162,
   "metadata": {},
   "outputs": [],
   "source": [
    "#2.\n",
    "adult = adult[(adult.INDHHIN2 == adult.INDHHIN2) & (adult.DMDHREDU==adult.DMDHREDU) & (adult.INDHHIN2!=77)&(adult.INDHHIN2!=99)&(adult.DMDHREDU!=7)&(adult.DMDHREDU!=9)]"
   ]
  },
  {
   "cell_type": "code",
   "execution_count": 164,
   "metadata": {},
   "outputs": [],
   "source": [
    "#3.\n",
    "adult = adult[(adult.INDHHIN2 != 12)&(adult.INDHHIN2 != 13)]"
   ]
  },
  {
   "cell_type": "code",
   "execution_count": 165,
   "metadata": {},
   "outputs": [
    {
     "data": {
      "text/plain": [
       "(4720, 72)"
      ]
     },
     "execution_count": 165,
     "metadata": {},
     "output_type": "execute_result"
    }
   ],
   "source": [
    "#4.\n",
    "adult.shape"
   ]
  },
  {
   "cell_type": "code",
   "execution_count": 194,
   "metadata": {},
   "outputs": [
    {
     "data": {
      "text/plain": [
       "<seaborn.axisgrid.JointGrid at 0x1a2d49b2e8>"
      ]
     },
     "execution_count": 194,
     "metadata": {},
     "output_type": "execute_result"
    },
    {
     "data": {
      "image/png": "[encoded data removed]",
      "text/plain": [
       "<Figure size 432x432 with 3 Axes>"
      ]
     },
     "metadata": {
      "needs_background": "light"
     },
     "output_type": "display_data"
    }
   ],
   "source": [
    "#5.\n",
    "adult['Edu'] = adult.DMDHREDU.astype('category')\n",
    "adult['Income'] = adult.INDHHIN2.astype('category')\n",
    "sns.jointplot(x = 'DMDHREDU', y = 'INDHHIN2',kind = 'kde',data = adult)"
   ]
  },
  {
   "cell_type": "code",
   "execution_count": null,
   "metadata": {},
   "outputs": [],
   "source": []
  }
 ],
 "metadata": {
  "kernelspec": {
   "display_name": "Python 3",
   "language": "python",
   "name": "python3"
  },
  "language_info": {
   "codemirror_mode": {
    "name": "ipython",
    "version": 3
   },
   "file_extension": ".py",
   "mimetype": "text/x-python",
   "name": "python",
   "nbconvert_exporter": "python",
   "pygments_lexer": "ipython3",
   "version": "3.7.0"
  }
 },
 "nbformat": 4,
 "nbformat_minor": 2
}
